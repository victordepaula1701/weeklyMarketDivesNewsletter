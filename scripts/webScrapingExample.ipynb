#I will use newspaper3k for a part of the process and the gspread to connect with Google SpreadSheets API
!pip install newspaper3k
!pip install gspread oauth2client

from bs4 import BeautifulSoup
import requests
import pandas as pd
import re
import time
import datetime
from datetime import date, timedelta
import dateutil.parser
import newspaper
from newspaper import Article
from googleapiclient.discovery import build
from urllib.request import urlopen

import gspread
from oauth2client.service_account import ServiceAccountCredentials
from  gspread_dataframe  import  get_as_dataframe ,  set_with_dataframe
